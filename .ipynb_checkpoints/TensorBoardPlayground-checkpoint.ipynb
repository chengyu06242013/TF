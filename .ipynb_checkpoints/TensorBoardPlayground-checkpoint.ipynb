{
 "cells": [
  {
   "cell_type": "markdown",
   "metadata": {},
   "source": [
    "# TensorBoard Playground"
   ]
  },
  {
   "cell_type": "code",
   "execution_count": 1,
   "metadata": {
    "collapsed": true
   },
   "outputs": [],
   "source": [
    "import tensorflow as tf\n",
    "import numpy as np"
   ]
  },
  {
   "cell_type": "code",
   "execution_count": 2,
   "metadata": {
    "collapsed": true
   },
   "outputs": [],
   "source": [
    "def add_layer(inputs, in_size, out_size, n_layer, activation_function = None):\n",
    "    \n",
    "    layer_name = 'layer_%s' % n_layer\n",
    "    \n",
    "    with tf.name_scope(layer_name):\n",
    "        with tf.name_scope('weights'):\n",
    "            Weights = tf.Variable(tf.random_normal((in_size, out_size)), name = 'W')\n",
    "            \n",
    "            # Histogram\n",
    "            tf.summary.histogram(layer_name+'/weights', Weights)\n",
    "        \n",
    "        with tf.name_scope('bias'):\n",
    "            biases = tf.Variable(tf.zeros((1, out_size)) + 0.1, name = 'b')\n",
    "            \n",
    "            # Histogram\n",
    "            tf.summary.histogram(layer_name+'/biases', biases)\n",
    "            \n",
    "        with tf.name_scope('Wx_plus_b'):\n",
    "            Wx_plus_b = tf.add(tf.matmul(inputs, Weights), biases)\n",
    "            \n",
    "            \n",
    "        if activation_function is None:\n",
    "            outputs = Wx_plus_b\n",
    "        else:\n",
    "            outputs = activation_function(Wx_plus_b)\n",
    "        \n",
    "        # Histogram\n",
    "        tf.summary.histogram(layer_name+'/outputs', outputs)\n",
    "        return outputs\n",
    "\n",
    "# data\n",
    "x_data = np.linspace(-1, 1, 300)[:, np.newaxis]\n",
    "noise = np.random.normal(0, 0.05, x_data.shape)\n",
    "y_data = np.square(x_data) - 0.5 + noise\n",
    "\n",
    "\n",
    "with tf.name_scope('inputs'):\n",
    "    xs = tf.placeholder(tf.float32, [None, 1], name = 'x_input')\n",
    "    ys = tf.placeholder(tf.float32, [None, 1], name = 'y_input')\n",
    "\n",
    "# Input layer 1\n",
    "# Hidden layer 10\n",
    "# Output layer 1\n",
    "\n",
    "l1 = add_layer(xs, 1, 10, 1, activation_function = tf.nn.relu)\n",
    "prediction = add_layer(l1, 10, 1, 2, activation_function = None)\n",
    "\n",
    "with tf.name_scope('loss'):\n",
    "    loss = tf.reduce_mean(tf.reduce_sum(tf.square(ys - prediction),\n",
    "                         reduction_indices=[1]))\n",
    "    # Linear graph\n",
    "    tf.summary.scalar('loss', loss)\n",
    "    \n",
    "with tf.name_scope('train'):\n",
    "    optimizer = tf.train.GradientDescentOptimizer(0.1)\n",
    "    train = optimizer.minimize(loss)\n",
    "\n",
    "\n",
    "init = tf.global_variables_initializer()\n",
    "session5 = tf.Session()\n",
    "\n",
    "# Important\n",
    "merged = tf.summary.merge_all()\n",
    "writer = tf.summary.FileWriter('./', session5.graph)\n",
    "\n",
    "session5.run(init)\n",
    "\n",
    "for i in range(1000):\n",
    "    \n",
    "    # When calling run, consider feed_dict if we had placeholders in our model\n",
    "    session5.run(train, feed_dict= {xs: x_data, ys: y_data})\n",
    "    \n",
    "    if i % 50 == 0:\n",
    "        result = session5.run(merged, feed_dict= {xs: x_data, ys: y_data})\n",
    "        writer.add_summary(result, i)\n",
    "\n",
    "# enter: tensorboard --logdir=\"./\"\n"
   ]
  },
  {
   "cell_type": "code",
   "execution_count": null,
   "metadata": {
    "collapsed": true
   },
   "outputs": [],
   "source": []
  }
 ],
 "metadata": {
  "kernelspec": {
   "display_name": "Python 3",
   "language": "python",
   "name": "python3"
  },
  "language_info": {
   "codemirror_mode": {
    "name": "ipython",
    "version": 3
   },
   "file_extension": ".py",
   "mimetype": "text/x-python",
   "name": "python",
   "nbconvert_exporter": "python",
   "pygments_lexer": "ipython3",
   "version": "3.6.3"
  }
 },
 "nbformat": 4,
 "nbformat_minor": 2
}
