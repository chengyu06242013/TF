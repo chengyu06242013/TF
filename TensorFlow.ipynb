{
 "cells": [
  {
   "cell_type": "markdown",
   "metadata": {},
   "source": [
    "# Tensorflow Playground"
   ]
  },
  {
   "cell_type": "code",
   "execution_count": 1,
   "metadata": {},
   "outputs": [],
   "source": [
    "import tensorflow as tf\n",
    "import numpy as np\n",
    "# %matplotlib inline\n",
    "\n",
    "# Useful thing(s):\n",
    "# shift + tab to see the docs of the code"
   ]
  },
  {
   "cell_type": "markdown",
   "metadata": {},
   "source": [
    "## Example 1: Linear model training example"
   ]
  },
  {
   "cell_type": "code",
   "execution_count": 2,
   "metadata": {},
   "outputs": [
    {
     "name": "stdout",
     "output_type": "stream",
     "text": [
      "(100,)\n",
      "(100,)\n"
     ]
    }
   ],
   "source": [
    "# Linear model learning example\n",
    "\n",
    "# x, y data\n",
    "# weights, biases\n",
    "\n",
    "# loss\n",
    "# optimizer\n",
    "# train(minimize)\n",
    "\n",
    "# session\n",
    "# run\n",
    "\n",
    "\n",
    "# Data processing\n",
    "x_data = np.random.rand(100).astype(np.float32)\n",
    "print(x_data.shape)\n",
    "\n",
    "y_data = x_data * 0.1 + 0.3\n",
    "print(y_data.shape)\n",
    "\n",
    "\n",
    "# Tensorflow construction\n",
    "Weights = tf.Variable(tf.random_uniform([1], -1.0, 1.0))\n",
    "b = tf.Variable(tf.zeros([1]))\n",
    "\n",
    "y = Weights * x_data + b\n",
    "\n",
    "loss = tf.reduce_mean(tf.square(y-y_data))\n",
    "optimizer = tf.train.GradientDescentOptimizer(0.5)\n",
    "train = optimizer.minimize(loss)\n",
    "\n",
    "init = tf.global_variables_initializer()"
   ]
  },
  {
   "cell_type": "code",
   "execution_count": 3,
   "metadata": {},
   "outputs": [
    {
     "name": "stdout",
     "output_type": "stream",
     "text": [
      "0 [-0.46540922] [ 0.83650702]\n",
      "20 [-0.06045692] [ 0.38589603]\n",
      "40 [ 0.06114936] [ 0.32079759]\n",
      "60 [ 0.09059331] [ 0.30503562]\n",
      "80 [ 0.0977224] [ 0.30121925]\n",
      "100 [ 0.09944853] [ 0.30029523]\n",
      "120 [ 0.09986647] [ 0.30007148]\n",
      "140 [ 0.09996768] [ 0.30001733]\n",
      "160 [ 0.09999218] [ 0.30000421]\n",
      "180 [ 0.09999812] [ 0.30000103]\n",
      "200 [ 0.09999953] [ 0.30000025]\n"
     ]
    }
   ],
   "source": [
    "# Using session to activate the init by using run init\n",
    "session1 = tf.Session() \n",
    "session1.run(init)  \n",
    "\n",
    "for step in range(201):\n",
    "    session1.run(train)\n",
    "    \n",
    "    if step % 20 == 0:\n",
    "        print(step, session1.run(Weights), session1.run(b))\n",
    "\n"
   ]
  },
  {
   "cell_type": "markdown",
   "metadata": {},
   "source": [
    "## Example 2: Use tensorflow session to run the structure"
   ]
  },
  {
   "cell_type": "code",
   "execution_count": 4,
   "metadata": {},
   "outputs": [
    {
     "name": "stdout",
     "output_type": "stream",
     "text": [
      "[[12]]\n"
     ]
    }
   ],
   "source": [
    "matrix1 = tf.constant([[3, 3]])\n",
    "matrix2 = tf.constant([[2],\n",
    "                       [2]])\n",
    "\n",
    "product = tf.matmul(matrix1, matrix2)  # This is similar to np.dot(m1, m2)\n",
    "\n",
    "# method 1\n",
    "# session2 = tf.Session()\n",
    "# mul_result = session2.run(product)\n",
    "\n",
    "# print(mul_result)\n",
    "# session2.close()\n",
    "\n",
    "\n",
    "# method 2\n",
    "with tf.Session() as session2_2:\n",
    "    mul_result2 = session2_2.run(product)\n",
    "    print(mul_result2)"
   ]
  },
  {
   "cell_type": "markdown",
   "metadata": {},
   "source": [
    "## Example 3: Variable"
   ]
  },
  {
   "cell_type": "code",
   "execution_count": 5,
   "metadata": {},
   "outputs": [],
   "source": [
    "state = tf.Variable(0, name = 'counter')\n",
    "# print(state.name)\n",
    "one = tf.constant(1)\n",
    "\n",
    "# new_value = tf.add(state, one)\n",
    "new_value = state + 1\n",
    "\n",
    "update = tf.assign(state, new_value)\n",
    "init = tf.global_variables_initializer()"
   ]
  },
  {
   "cell_type": "code",
   "execution_count": 6,
   "metadata": {},
   "outputs": [
    {
     "name": "stdout",
     "output_type": "stream",
     "text": [
      "1\n",
      "2\n",
      "3\n"
     ]
    }
   ],
   "source": [
    "with tf.Session() as session3:\n",
    "    session3.run(init)\n",
    "    \n",
    "    for _ in range(3):\n",
    "        session3.run(update)\n",
    "        print(session3.run(state))"
   ]
  },
  {
   "cell_type": "markdown",
   "metadata": {},
   "source": [
    "## Example 4: Placeholder"
   ]
  },
  {
   "cell_type": "code",
   "execution_count": 7,
   "metadata": {
    "collapsed": true
   },
   "outputs": [],
   "source": [
    "# The difference between variable and placeholder is that variable sets the value when declaring it, \n",
    "# placeholder don't need to pass the value until calling session.run, but need to specify type of the placeholder. \n",
    "\n",
    "# Placeholder normally deals with float32"
   ]
  },
  {
   "cell_type": "code",
   "execution_count": 8,
   "metadata": {},
   "outputs": [
    {
     "name": "stdout",
     "output_type": "stream",
     "text": [
      "[ 14.]\n"
     ]
    }
   ],
   "source": [
    "input4_1 = tf.placeholder(tf.float32)\n",
    "input4_2 = tf.placeholder(tf.float32)\n",
    "\n",
    "output = tf.multiply(input4_1, input4_2)\n",
    "\n",
    "with tf.Session() as session4:\n",
    "    print(session4.run(output, feed_dict = {input4_1: [7.], input4_2: [2.]}))"
   ]
  },
  {
   "cell_type": "markdown",
   "metadata": {},
   "source": [
    "## Example 5: Neural Network add_layer()"
   ]
  },
  {
   "cell_type": "code",
   "execution_count": 9,
   "metadata": {
    "collapsed": true
   },
   "outputs": [],
   "source": [
    "import matplotlib.pyplot as plt\n",
    "import time"
   ]
  },
  {
   "cell_type": "code",
   "execution_count": 15,
   "metadata": {},
   "outputs": [
    {
     "data": {
      "image/png": "[encoded data removed]",
      "text/plain": [
       "<matplotlib.figure.Figure at 0x12e565588>"
      ]
     },
     "metadata": {},
     "output_type": "display_data"
    },
    {
     "name": "stdout",
     "output_type": "stream",
     "text": [
      "3.54485\n",
      "0.0183045\n",
      "0.0123533\n",
      "0.00848859\n",
      "0.00618058\n",
      "0.00492758\n",
      "0.00427529\n",
      "0.00394972\n",
      "0.00377614\n",
      "0.00365091\n",
      "0.00355309\n",
      "0.00347887\n",
      "0.00341527\n",
      "0.00335699\n",
      "0.00331492\n",
      "0.00327502\n",
      "0.00323916\n",
      "0.00320869\n",
      "0.00317367\n",
      "0.00313435\n"
     ]
    }
   ],
   "source": [
    "# Activation Functions:\n",
    "# Linear Function\n",
    "# Step Function\n",
    "# Ramp Function\n",
    "# Sigmoid\n",
    "# tanh\n",
    "\n",
    "\n",
    "def add_layer(inputs, in_size, out_size, activation_function = None):\n",
    "    Weights = tf.Variable(tf.random_normal((in_size, out_size)))\n",
    "    biases = tf.Variable(tf.zeros((1, out_size))+0.1)\n",
    "    \n",
    "    Wx_plus_b = tf.matmul(inputs, Weights) + biases\n",
    "    \n",
    "    if not activation_function:\n",
    "        outputs = Wx_plus_b\n",
    "    else:\n",
    "        outputs = activation_function(Wx_plus_b)\n",
    "    \n",
    "    return outputs\n",
    "            \n",
    "    \n",
    "x_data = np.linspace(-1, 1, 300)[:, np.newaxis]\n",
    "noise = np.random.normal(0, 0.05, x_data.shape)\n",
    "y_data = np.square(x_data) - 0.5 + noise\n",
    "\n",
    "xs = tf.placeholder(tf.float32, [None, 1])\n",
    "ys = tf.placeholder(tf.float32, [None, 1])\n",
    "\n",
    "# Input layer 1\n",
    "# Hidden layer 10\n",
    "# Output layer 1\n",
    "\n",
    "l1 = add_layer(xs, 1, 10, activation_function = tf.nn.relu)\n",
    "prediction = add_layer(l1, 10, 1, activation_function = None)\n",
    "\n",
    "loss = tf.reduce_mean(tf.reduce_sum(tf.square(ys - prediction),\n",
    "                     reduction_indices=[1]))\n",
    "\n",
    "\n",
    "optimizer = tf.train.GradientDescentOptimizer(0.1)\n",
    "train = optimizer.minimize(loss)\n",
    "\n",
    "init = tf.global_variables_initializer()\n",
    "session5 = tf.Session()\n",
    "\n",
    "session5.run(init)\n",
    "\n",
    "\n",
    "fig = plt.figure()\n",
    "ax = fig.add_subplot(1, 1, 1)\n",
    "ax.scatter(x_data, y_data)\n",
    "# Continuously show\n",
    "plt.ion()\n",
    "plt.show()\n",
    "\n",
    "\n",
    "for i in range(1000):\n",
    "    session5.run(train, feed_dict = {xs: x_data, ys: y_data})\n",
    "    \n",
    "    if i % 50 == 0:\n",
    "        print(session5.run(loss, feed_dict = {xs: x_data, ys: y_data}))\n",
    "\n",
    "\n",
    "\n",
    "#         plotting\n",
    "\n",
    "#         try:\n",
    "#             ax.lines.remove(lines[0])\n",
    "#         except Exception:\n",
    "#             pass\n",
    "        \n",
    "        prediction_value = session5.run(prediction, feed_dict={xs: x_data})\n",
    "        lines = ax.plot(x_data, prediction_value, 'r-', lw = 5)\n",
    "#         ax.lines.remove(lines[0])\n",
    "#         plt.pause(0.1)\n",
    "\n",
    "session5.close()\n",
    "\n"
   ]
  },
  {
   "cell_type": "markdown",
   "metadata": {},
   "source": []
  }
 ],
 "metadata": {
  "kernelspec": {
   "display_name": "Python 3",
   "language": "python",
   "name": "python3"
  },
  "language_info": {
   "codemirror_mode": {
    "name": "ipython",
    "version": 3
   },
   "file_extension": ".py",
   "mimetype": "text/x-python",
   "name": "python",
   "nbconvert_exporter": "python",
   "pygments_lexer": "ipython3",
   "version": "3.6.3"
  }
 },
 "nbformat": 4,
 "nbformat_minor": 2
}
